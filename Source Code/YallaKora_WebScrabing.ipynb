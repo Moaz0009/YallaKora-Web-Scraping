{
 "cells": [
  {
   "cell_type": "code",
   "execution_count": 1,
   "id": "c416cc39-7dc5-4c03-93b2-37771782450a",
   "metadata": {},
   "outputs": [],
   "source": [
    "from bs4 import BeautifulSoup \n",
    "import requests \n",
    "import csv"
   ]
  },
  {
   "cell_type": "code",
   "execution_count": 2,
   "id": "e98a4e8b-baf4-49f9-a43a-4a09eab124a1",
   "metadata": {},
   "outputs": [
    {
     "data": {
      "text/plain": [
       "<Response [200]>"
      ]
     },
     "execution_count": 2,
     "metadata": {},
     "output_type": "execute_result"
    }
   ],
   "source": [
    "site = requests.get(\"https://www.yallakora.com/match-center/%D9%85%D8%B1%D9%83%D8%B2-%D8%A7%D9%84%D9%85%D8%A8%D8%A7%D8%B1%D9%8A%D8%A7%D8%AA?date=5/3/2024#\")\n",
    "site"
   ]
  },
  {
   "cell_type": "code",
   "execution_count": 4,
   "id": "92f51e08-3c56-47d7-97a9-6c3be06507c4",
   "metadata": {},
   "outputs": [],
   "source": [
    "flag=1 # to write the colums heads only once\n",
    "league_name=['EGYPTIONLEAGUE', 'PREMIERLEAGUE','SPAINLEAGUE','SAUDILEAGUE','ITALILEAFGUE','GERMANLEAGUE','FRANCELEAGUE','TURKEYLEAGUE','PORTGALLEAGUE']\n",
    "leag_num=0\n",
    "for i in range(3,13):\n",
    "        website = requests.get(\"https://www.yallakora.com/match-center/%D9%85%D8%B1%D9%83%D8%B2-%D8%A7%D9%84%D9%85%D8%A8%D8%A7%D8%B1%D9%8A%D8%A7%D8%AA?date=5/\"+str(i)+\"/2024#days\").text\n",
    "        website = BeautifulSoup(website, \"lxml\")\n",
    "        leagues= website.find_all(\"div\",class_=\"ul\")\n",
    "        alls=['finish','now','future'] # to get all matches, finished, playing now, and will be played\n",
    "        for league in leagues: \n",
    "            csvfile = open ('YallaKoraMatches_'+league_name[leag_num]+'.csv', 'a', encoding='utf-8-sig') # a = to add to the current exsisting data\n",
    "            writer = csv.writer(csvfile)\n",
    "            if(flag==1):\n",
    "                    writer.writerow(['Date',\"Week\",'Time', 'Team A' ,'Team B' ,'Status' , 'Result'])\n",
    "            for all in alls:\n",
    "                     matches =league.find_all(\"div\" , class_=\"item \"+ all+ \" liItem\")\n",
    "                     for match in matches:\n",
    "                          team_1=match.find(\"div\" , class_=\"teams teamA\").text\n",
    "                          team_2=match.find(\"div\" , class_=\"teams teamB\").text\n",
    "                          match_status=match.find(\"div\" ,class_=\"matchStatus\").text\n",
    "                          match_date=match.find(\"div\" ,class_=\"date\").text\n",
    "                          day_date=website.find(\"div\" , class_=\"dayName\").text\n",
    "                          time=match.find(\"span\" , class_=\"time\").text\n",
    "                          result_time=match.find(\"div\", class_=\"MResult\").text\n",
    "                          result=result_time.split()\n",
    "                          result=result[0:3]\n",
    "                          result='-'.join(result)\n",
    "                          writer.writerow([day_date,match_date ,time, team_1 ,team_2 ,match_status , result])\n",
    "            leag_num +=1\n",
    "            if(leag_num==9):\n",
    "                leag_num=0\n",
    "            csvfile.close()\n",
    "        leag_num=0\n",
    "        flag=0\n",
    "    "
   ]
  },
  {
   "cell_type": "code",
   "execution_count": null,
   "id": "03115df8-e24a-48ca-9cdd-aea2ab35efa8",
   "metadata": {},
   "outputs": [],
   "source": []
  }
 ],
 "metadata": {
  "kernelspec": {
   "display_name": "Python 3 (ipykernel)",
   "language": "python",
   "name": "python3"
  },
  "language_info": {
   "codemirror_mode": {
    "name": "ipython",
    "version": 3
   },
   "file_extension": ".py",
   "mimetype": "text/x-python",
   "name": "python",
   "nbconvert_exporter": "python",
   "pygments_lexer": "ipython3",
   "version": "3.11.7"
  }
 },
 "nbformat": 4,
 "nbformat_minor": 5
}
